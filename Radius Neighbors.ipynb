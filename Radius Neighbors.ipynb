{
 "cells": [
  {
   "cell_type": "markdown",
   "metadata": {},
   "source": [
    "# <font color=blue> *Implementazione dell'algoritmo RADIUS NEIGHBORS* </font>"
   ]
  },
  {
   "cell_type": "code",
   "execution_count": 1,
   "metadata": {},
   "outputs": [],
   "source": [
    "from sklearn import datasets\n",
    "import numpy as np\n",
    "from numpy.random import default_rng\n",
    "import matplotlib.pyplot as plt"
   ]
  },
  {
   "cell_type": "code",
   "execution_count": 2,
   "metadata": {},
   "outputs": [],
   "source": [
    "data= datasets.load_iris()"
   ]
  },
  {
   "cell_type": "code",
   "execution_count": 3,
   "metadata": {},
   "outputs": [],
   "source": [
    "x=data[\"data\"]\n",
    "y=data[\"target\"]"
   ]
  },
  {
   "cell_type": "code",
   "execution_count": 4,
   "metadata": {},
   "outputs": [
    {
     "name": "stdout",
     "output_type": "stream",
     "text": [
      "(150, 4)\n",
      "(150,)\n"
     ]
    }
   ],
   "source": [
    "print(x.shape)\n",
    "print(y.shape)"
   ]
  },
  {
   "cell_type": "code",
   "execution_count": 5,
   "metadata": {},
   "outputs": [],
   "source": [
    "rnd= default_rng(seed=12)\n",
    "permutation= rnd.permutation(len(y))"
   ]
  },
  {
   "cell_type": "code",
   "execution_count": 6,
   "metadata": {},
   "outputs": [],
   "source": [
    "x= x[permutation]\n",
    "y= y[permutation]"
   ]
  },
  {
   "cell_type": "code",
   "execution_count": 7,
   "metadata": {},
   "outputs": [],
   "source": [
    "n= int(len(y)*0.8)"
   ]
  },
  {
   "cell_type": "code",
   "execution_count": 8,
   "metadata": {},
   "outputs": [],
   "source": [
    "train_x= x[:n]\n",
    "train_y= y[:n]\n",
    "test_x= x[n:]\n",
    "test_y= y[n:]"
   ]
  },
  {
   "cell_type": "code",
   "execution_count": 9,
   "metadata": {},
   "outputs": [],
   "source": [
    "class Radius_Neighbors:\n",
    "    \n",
    "    def __init__(self,r):\n",
    "        self.r=r\n",
    "    \n",
    "    def fit(self,train_x,train_y):\n",
    "        self.train_x=train_x\n",
    "        self.train_y=train_y\n",
    "       \n",
    "    def predict_single(self,test_x):\n",
    "        train_x= self.train_x\n",
    "        train_y= self.train_y\n",
    "        r=self.r\n",
    "    \n",
    "        distances=np.zeros(shape=(len(train_y),))\n",
    "    \n",
    "        for i in range(len(train_x)):\n",
    "            d= np.sqrt(np.sum((train_x[i]-test_x)**2))\n",
    "            distances[i]=d\n",
    "        \n",
    "        k_neighbors= []    \n",
    "        \n",
    "        for i in range(len(train_x)):\n",
    "            if distances[i]<=r:\n",
    "                k_neighbors.append(train_y[i])\n",
    "        k_neighbors=np.array(k_neighbors)                   \n",
    "        pred_new=np.argmax(np.bincount(k_neighbors))\n",
    "        return pred_new\n",
    "    \n",
    "    def predicts(self,test_x):\n",
    "        preds= []\n",
    "        for i in range(test_x.shape[0]):\n",
    "            preds.append(self.predict_single(test_x[i]))\n",
    "        return np.array(preds)\n"
   ]
  },
  {
   "cell_type": "code",
   "execution_count": 10,
   "metadata": {},
   "outputs": [],
   "source": [
    "def accuracy(test_y, y_preds):\n",
    "    return np.sum(test_y==y_preds)/len(test_y)"
   ]
  },
  {
   "cell_type": "code",
   "execution_count": 11,
   "metadata": {},
   "outputs": [],
   "source": [
    "accuracies= []\n",
    "accuracies_tr = []\n",
    "r_list=range(1,5)\n",
    "\n",
    "for r in r_list:\n",
    "    rn= Radius_Neighbors(r)\n",
    "    model= rn.fit(train_x,train_y)\n",
    "    preds= rn.predicts(test_x)\n",
    "    acc= accuracy(test_y, preds)\n",
    "    accuracies.append(acc)\n",
    "    y_preds_tr = rn.predicts(train_x)\n",
    "    acc_tr = accuracy(train_y,y_preds_tr)\n",
    "    accuracies_tr.append(acc_tr)"
   ]
  },
  {
   "cell_type": "code",
   "execution_count": 12,
   "metadata": {},
   "outputs": [
    {
     "data": {
      "image/png": "[encoded data removed]",
      "text/plain": [
       "<Figure size 432x288 with 1 Axes>"
      ]
     },
     "metadata": {
      "needs_background": "light"
     },
     "output_type": "display_data"
    }
   ],
   "source": [
    "plt.figure()\n",
    "plt.plot(r_list, accuracies,label='test')\n",
    "plt.plot(r_list, accuracies_tr,label='train')\n",
    "plt.legend()\n",
    "plt.show()"
   ]
  },
  {
   "cell_type": "code",
   "execution_count": null,
   "metadata": {},
   "outputs": [],
   "source": []
  }
 ],
 "metadata": {
  "kernelspec": {
   "display_name": "Python 3",
   "language": "python",
   "name": "python3"
  },
  "language_info": {
   "codemirror_mode": {
    "name": "ipython",
    "version": 3
   },
   "file_extension": ".py",
   "mimetype": "text/x-python",
   "name": "python",
   "nbconvert_exporter": "python",
   "pygments_lexer": "ipython3",
   "version": "3.8.5"
  }
 },
 "nbformat": 4,
 "nbformat_minor": 4
}
