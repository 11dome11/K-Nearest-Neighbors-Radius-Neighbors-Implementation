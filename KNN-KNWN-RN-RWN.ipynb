{
 "cells": [
  {
   "cell_type": "markdown",
   "metadata": {},
   "source": [
    "# <font color=red> *Implementation of the K-NEAREST NEIGHBORS, K-NEAREST WEIGHTED NEIGHBORS, RADIUS NEIGHBORS, RADIUS WEIGHTED NEIGHBORS Algorithms* </font>"
   ]
  },
  {
   "cell_type": "code",
   "execution_count": 25,
   "metadata": {},
   "outputs": [],
   "source": [
    "from sklearn import datasets\n",
    "import numpy as np\n",
    "from numpy.random import default_rng\n",
    "import matplotlib.pyplot as plt"
   ]
  },
  {
   "cell_type": "code",
   "execution_count": 26,
   "metadata": {},
   "outputs": [],
   "source": [
    "data= datasets.load_iris()"
   ]
  },
  {
   "cell_type": "code",
   "execution_count": 27,
   "metadata": {},
   "outputs": [],
   "source": [
    "x=data[\"data\"]\n",
    "y=data[\"target\"]"
   ]
  },
  {
   "cell_type": "code",
   "execution_count": 28,
   "metadata": {},
   "outputs": [],
   "source": [
    "rnd= default_rng(seed=12)\n",
    "permutation= rnd.permutation(len(y))"
   ]
  },
  {
   "cell_type": "code",
   "execution_count": 29,
   "metadata": {},
   "outputs": [],
   "source": [
    "x= x[permutation]\n",
    "y= y[permutation]"
   ]
  },
  {
   "cell_type": "code",
   "execution_count": 30,
   "metadata": {},
   "outputs": [],
   "source": [
    "n= int(len(y)*0.8)"
   ]
  },
  {
   "cell_type": "code",
   "execution_count": 31,
   "metadata": {},
   "outputs": [],
   "source": [
    "train_x= x[:n]\n",
    "train_y= y[:n]\n",
    "test_x= x[n:]\n",
    "test_y= y[n:]"
   ]
  },
  {
   "cell_type": "markdown",
   "metadata": {},
   "source": [
    "## <font color=blue> *K-NEAREST NEIGHBORS* </font>"
   ]
  },
  {
   "cell_type": "code",
   "execution_count": 32,
   "metadata": {},
   "outputs": [],
   "source": [
    "class K_Nearest_Neighbors:\n",
    "    \n",
    "    def __init__(self,k):\n",
    "        self.k=k\n",
    "    \n",
    "    def fit(self,train_x,train_y):\n",
    "        self.train_x=train_x\n",
    "        self.train_y=train_y\n",
    "    \n",
    "    def predict_single(self,test_x):\n",
    "        train_x= self.train_x\n",
    "        train_y= self.train_y\n",
    "        k= self.k\n",
    "    \n",
    "        distances=np.zeros(shape=(len(train_y,)))\n",
    "    \n",
    "        for i in range(len(train_x)):\n",
    "            d= np.sqrt(np.sum((train_x[i]-test_x)**2))\n",
    "            distances[i]=d\n",
    "        \n",
    "        sorting = np.argsort(distances)\n",
    "        k_neighbors = sorting[:k]\n",
    "        neighbors_label = train_y[k_neighbors]\n",
    "                      \n",
    "        pred_new=np.argmax(np.bincount(neighbors_label))\n",
    "        return pred_new\n",
    "\n",
    "    def predicts(self, test_x):\n",
    "        preds= []\n",
    "        for i in range(test_x.shape[0]):\n",
    "            preds.append(self.predict_single(test_x[i]))\n",
    "        return np.array(preds)"
   ]
  },
  {
   "cell_type": "code",
   "execution_count": 33,
   "metadata": {},
   "outputs": [],
   "source": [
    "def accuracy(test_y, y_preds):\n",
    "    return np.sum(test_y==y_preds)/len(test_y)"
   ]
  },
  {
   "cell_type": "code",
   "execution_count": 34,
   "metadata": {},
   "outputs": [],
   "source": [
    "accuracies= []\n",
    "accuracies_tr = []\n",
    "k_list = range(1,30)\n",
    "\n",
    "for k in k_list:\n",
    "    knn= K_Nearest_Neighbors(k)\n",
    "    model= knn.fit(train_x,train_y)\n",
    "    preds= knn.predicts(test_x)\n",
    "    acc= accuracy(test_y, preds)\n",
    "    accuracies.append(acc)\n",
    "    y_preds_tr = knn.predicts(train_x)\n",
    "    acc_tr = accuracy(train_y,y_preds_tr)\n",
    "    accuracies_tr.append(acc_tr)"
   ]
  },
  {
   "cell_type": "code",
   "execution_count": 35,
   "metadata": {},
   "outputs": [
    {
     "data": {
      "image/png": "[encoded data removed]",
      "text/plain": [
       "<Figure size 432x288 with 1 Axes>"
      ]
     },
     "metadata": {
      "needs_background": "light"
     },
     "output_type": "display_data"
    }
   ],
   "source": [
    "plt.figure()\n",
    "plt.plot(k_list, accuracies,label='test')\n",
    "plt.plot(k_list, accuracies_tr,label='train')\n",
    "plt.legend()\n",
    "plt.show()"
   ]
  },
  {
   "cell_type": "markdown",
   "metadata": {},
   "source": [
    "## <font color=blue> *K-NEAREST WEIGHTED NEIGHBOR* </font>"
   ]
  },
  {
   "cell_type": "code",
   "execution_count": 36,
   "metadata": {},
   "outputs": [],
   "source": [
    "class K_Nearest_Weighted_Neighbors:\n",
    "    \n",
    "    def __init__(self,k):\n",
    "        self.k=k\n",
    "    \n",
    "    def fit(self,train_x,train_y):\n",
    "        self.train_x=train_x\n",
    "        self.train_y=train_y\n",
    "    \n",
    "    def predict_single(self,test_x):\n",
    "        train_x= self.train_x\n",
    "        train_y= self.train_y\n",
    "        k= self.k\n",
    "    \n",
    "        distances=np.zeros(shape=(len(train_y,)))\n",
    "    \n",
    "        for i in range(len(train_x)):\n",
    "            d= np.sqrt(np.sum((train_x[i]-test_x)**2))\n",
    "            distances[i]=d\n",
    "        \n",
    "        sorting = np.argsort(distances)\n",
    "        k_neighbors = sorting[:k]\n",
    "        neighbors_label = train_y[k_neighbors]\n",
    "        \n",
    "        weight_distances= distances[k_neighbors]\n",
    "        classes= np.unique(train_y)\n",
    "        weights= []\n",
    "        for c in classes:\n",
    "            d= weight_distances[neighbors_label==c]\n",
    "            w= np.sum(1./d)\n",
    "            weights.append(w)\n",
    "            \n",
    "        pred_new= classes[np.argmax(weights)]\n",
    "                      \n",
    "        return pred_new\n",
    "\n",
    "    def predicts(self, test_x):\n",
    "        preds= []\n",
    "        for i in range(test_x.shape[0]):\n",
    "            preds.append(self.predict_single(test_x[i]))\n",
    "        return np.array(preds)"
   ]
  },
  {
   "cell_type": "code",
   "execution_count": 37,
   "metadata": {},
   "outputs": [],
   "source": [
    "def accuracy(test_y, y_preds):\n",
    "    return np.sum(test_y==y_preds)/len(test_y)"
   ]
  },
  {
   "cell_type": "code",
   "execution_count": 38,
   "metadata": {},
   "outputs": [
    {
     "name": "stderr",
     "output_type": "stream",
     "text": [
      "<ipython-input-36-d08f911c0298>:30: RuntimeWarning: divide by zero encountered in true_divide\n",
      "  w= np.sum(1./d)\n"
     ]
    }
   ],
   "source": [
    "accuracies= []\n",
    "accuracies_tr = []\n",
    "k_list = range(1,30)\n",
    "\n",
    "for k in k_list:\n",
    "    knn= K_Nearest_Weighted_Neighbors(k)\n",
    "    model= knn.fit(train_x,train_y)\n",
    "    preds= knn.predicts(test_x)\n",
    "    acc= accuracy(test_y, preds)\n",
    "    accuracies.append(acc)\n",
    "    y_preds_tr = knn.predicts(train_x)\n",
    "    acc_tr = accuracy(train_y,y_preds_tr)\n",
    "    accuracies_tr.append(acc_tr)"
   ]
  },
  {
   "cell_type": "code",
   "execution_count": 40,
   "metadata": {},
   "outputs": [
    {
     "data": {
      "image/png": "[encoded data removed]",
      "text/plain": [
       "<Figure size 432x288 with 1 Axes>"
      ]
     },
     "metadata": {
      "needs_background": "light"
     },
     "output_type": "display_data"
    }
   ],
   "source": [
    "plt.figure()\n",
    "plt.plot(k_list, accuracies,label='test')\n",
    "plt.plot(k_list, accuracies_tr,label='train')\n",
    "plt.legend()\n",
    "plt.show()"
   ]
  },
  {
   "cell_type": "markdown",
   "metadata": {},
   "source": [
    "## <font color=blue> *RADIUS NEIGHBORS* </font>"
   ]
  },
  {
   "cell_type": "code",
   "execution_count": 41,
   "metadata": {},
   "outputs": [],
   "source": [
    "class Radius_Neighbors:\n",
    "    \n",
    "    def __init__(self,r):\n",
    "        self.r=r\n",
    "    \n",
    "    def fit(self,train_x,train_y):\n",
    "        self.train_x=train_x\n",
    "        self.train_y=train_y\n",
    "       \n",
    "    def predict_single(self,test_x):\n",
    "        train_x= self.train_x\n",
    "        train_y= self.train_y\n",
    "        r=self.r\n",
    "    \n",
    "        distances=np.zeros(shape=(len(train_y),))\n",
    "    \n",
    "        for i in range(len(train_x)):\n",
    "            d= np.sqrt(np.sum((train_x[i]-test_x)**2))\n",
    "            distances[i]=d\n",
    "        \n",
    "        k_neighbors= []    \n",
    "        \n",
    "        for i in range(len(train_x)):\n",
    "            if distances[i]<=r:\n",
    "                k_neighbors.append(train_y[i])\n",
    "        k_neighbors=np.array(k_neighbors)                   \n",
    "        pred_new=np.argmax(np.bincount(k_neighbors))\n",
    "        return pred_new\n",
    "    \n",
    "    def predicts(self,test_x):\n",
    "        preds= []\n",
    "        for i in range(test_x.shape[0]):\n",
    "            preds.append(self.predict_single(test_x[i]))\n",
    "        return np.array(preds)\n"
   ]
  },
  {
   "cell_type": "code",
   "execution_count": 42,
   "metadata": {},
   "outputs": [],
   "source": [
    "def accuracy(test_y, y_preds):\n",
    "    return np.sum(test_y==y_preds)/len(test_y)"
   ]
  },
  {
   "cell_type": "code",
   "execution_count": 43,
   "metadata": {},
   "outputs": [],
   "source": [
    "accuracies= []\n",
    "accuracies_tr = []\n",
    "r_list=range(1,5)\n",
    "\n",
    "for r in r_list:\n",
    "    rn= Radius_Neighbors(r)\n",
    "    model= rn.fit(train_x,train_y)\n",
    "    preds= rn.predicts(test_x)\n",
    "    acc= accuracy(test_y, preds)\n",
    "    accuracies.append(acc)\n",
    "    y_preds_tr = rn.predicts(train_x)\n",
    "    acc_tr = accuracy(train_y,y_preds_tr)\n",
    "    accuracies_tr.append(acc_tr)"
   ]
  },
  {
   "cell_type": "code",
   "execution_count": 44,
   "metadata": {},
   "outputs": [
    {
     "data": {
      "image/png": "[encoded data removed]",
      "text/plain": [
       "<Figure size 432x288 with 1 Axes>"
      ]
     },
     "metadata": {
      "needs_background": "light"
     },
     "output_type": "display_data"
    }
   ],
   "source": [
    "plt.figure()\n",
    "plt.plot(r_list, accuracies,label='test')\n",
    "plt.plot(r_list, accuracies_tr,label='train')\n",
    "plt.legend()\n",
    "plt.show()"
   ]
  },
  {
   "cell_type": "markdown",
   "metadata": {},
   "source": [
    "## <font color=blue> *RADIUS WEIGHTED NEIGHBORS* </font>"
   ]
  },
  {
   "cell_type": "code",
   "execution_count": 45,
   "metadata": {},
   "outputs": [],
   "source": [
    "class Radius_Weighted_Neighbors:\n",
    "    \n",
    "    def __init__(self,r):\n",
    "        self.r=r\n",
    "    \n",
    "    def fit(self,train_x,train_y):\n",
    "        self.train_x=train_x\n",
    "        self.train_y=train_y\n",
    "    \n",
    "    def predict_single(self,test_x):\n",
    "        train_x= self.train_x\n",
    "        train_y= self.train_y\n",
    "        r= self.r\n",
    "    \n",
    "        distances=np.zeros(shape=(len(train_y,)))\n",
    "    \n",
    "        for i in range(n):\n",
    "            d= np.sqrt(np.sum((train_x[i]-test_x)**2))\n",
    "            distances[i]=d\n",
    "        \n",
    "        k_neighbors= []    \n",
    "        \n",
    "        for i in range(n):\n",
    "            if distances[i]<=r:\n",
    "                k_neighbors.append(train_y[i])\n",
    "                \n",
    "        k_neighbors=np.array(k_neighbors)        \n",
    "        weight_distances= distances[k_neighbors]        \n",
    "        \n",
    "                           \n",
    "        classes= np.unique(train_y)\n",
    "        weights= []\n",
    "        for c in classes:\n",
    "            d= weight_distances[k_neighbors==c]\n",
    "            w= np.sum(1./d)\n",
    "            weights.append(w)\n",
    "            \n",
    "        pred_new= classes[np.argmax(weights)]\n",
    "                      \n",
    "        return pred_new\n",
    "    \n",
    "    def predicts(self,test_x):\n",
    "        preds= []\n",
    "        for i in range(test_x.shape[0]):\n",
    "            preds.append(self.predict_single(test_x[i]))\n",
    "        return np.array(preds)\n"
   ]
  },
  {
   "cell_type": "code",
   "execution_count": 46,
   "metadata": {},
   "outputs": [],
   "source": [
    "def accuracy(test_y, y_preds):\n",
    "    return np.sum(test_y==y_preds)/len(test_y)"
   ]
  },
  {
   "cell_type": "code",
   "execution_count": 47,
   "metadata": {},
   "outputs": [
    {
     "name": "stderr",
     "output_type": "stream",
     "text": [
      "<ipython-input-45-3880253de280>:35: RuntimeWarning: divide by zero encountered in true_divide\n",
      "  w= np.sum(1./d)\n"
     ]
    }
   ],
   "source": [
    "accuracies= []\n",
    "accuracies_tr = []\n",
    "r_list=range(1,4)\n",
    "\n",
    "for r in r_list:\n",
    "    rd= Radius_Weighted_Neighbors(r)\n",
    "    model= rd.fit(train_x,train_y)\n",
    "    preds= rd.predicts(test_x)\n",
    "    acc= accuracy(test_y, preds)\n",
    "    accuracies.append(acc)\n",
    "    y_preds_tr = rd.predicts(train_x)\n",
    "    acc_tr = accuracy(train_y,y_preds_tr)\n",
    "    accuracies_tr.append(acc_tr)"
   ]
  },
  {
   "cell_type": "code",
   "execution_count": 48,
   "metadata": {},
   "outputs": [
    {
     "data": {
      "image/png": "[encoded data removed]",
      "text/plain": [
       "<Figure size 432x288 with 1 Axes>"
      ]
     },
     "metadata": {
      "needs_background": "light"
     },
     "output_type": "display_data"
    }
   ],
   "source": [
    "plt.figure()\n",
    "plt.plot(r_list, accuracies,label='test')\n",
    "plt.plot(r_list, accuracies_tr,label='train')\n",
    "plt.legend()\n",
    "plt.show()"
   ]
  },
  {
   "cell_type": "code",
   "execution_count": null,
   "metadata": {},
   "outputs": [],
   "source": []
  }
 ],
 "metadata": {
  "kernelspec": {
   "display_name": "Python 3",
   "language": "python",
   "name": "python3"
  },
  "language_info": {
   "codemirror_mode": {
    "name": "ipython",
    "version": 3
   },
   "file_extension": ".py",
   "mimetype": "text/x-python",
   "name": "python",
   "nbconvert_exporter": "python",
   "pygments_lexer": "ipython3",
   "version": "3.8.5"
  }
 },
 "nbformat": 4,
 "nbformat_minor": 4
}
